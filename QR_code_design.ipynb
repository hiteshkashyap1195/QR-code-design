{
 "cells": [
  {
   "cell_type": "code",
   "execution_count": 2,
   "id": "2ec3b709",
   "metadata": {},
   "outputs": [
    {
     "name": "stdout",
     "output_type": "stream",
     "text": [
      "QR CODE SUCCESSFULLY CREATED\n"
     ]
    }
   ],
   "source": [
    "# Import QRCode from pyqrcode \n",
    "import pyqrcode \n",
    "import png  \n",
    "  \n",
    "\n",
    "#String which represents the QR code \n",
    "website = \"https://www.google.com/\"\n",
    "  \n",
    "# Generate QR code \n",
    "url = pyqrcode.create(website) \n",
    "  \n",
    "# Create and save the svg file naming \"Google_QR.svg\" \n",
    "url.svg(\"Google_QR.svg\", scale = 10) \n",
    "  \n",
    "# Create and save the png file naming \"Google_QR.png\" \n",
    "url.png('Google_QR.png', scale = 10) \n",
    "\n",
    "print(\"QR CODE SUCCESSFULLY CREATED\")"
   ]
  },
  {
   "cell_type": "code",
   "execution_count": null,
   "id": "46673e17",
   "metadata": {},
   "outputs": [],
   "source": []
  }
 ],
 "metadata": {
  "kernelspec": {
   "display_name": "Python 3 (ipykernel)",
   "language": "python",
   "name": "python3"
  },
  "language_info": {
   "codemirror_mode": {
    "name": "ipython",
    "version": 3
   },
   "file_extension": ".py",
   "mimetype": "text/x-python",
   "name": "python",
   "nbconvert_exporter": "python",
   "pygments_lexer": "ipython3",
   "version": "3.11.5"
  }
 },
 "nbformat": 4,
 "nbformat_minor": 5
}
